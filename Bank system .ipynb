{
 "cells": [
  {
   "cell_type": "code",
   "execution_count": 1,
   "id": "ed48f947-8512-48be-8c69-7c9cba6d8962",
   "metadata": {},
   "outputs": [],
   "source": [
    "class bank_account:\n",
    "    def __init__(self,amount):\n",
    "        self.__amount=amount\n",
    "    def diposit(self,amount):\n",
    "        self.__amount=self.__amount+amount\n",
    "    def widrawl(self,amount):\n",
    "        if self.__amount >= amount:\n",
    "            self.__amount=self.__amount-amount\n",
    "            return\n",
    "        else:\n",
    "            return(\"No sufficient balnce\")\n",
    "    def balance(self):\n",
    "        return self.__amount"
   ]
  },
  {
   "cell_type": "code",
   "execution_count": 2,
   "id": "fadb3df7-0302-45cb-b10f-53ffd256d227",
   "metadata": {},
   "outputs": [],
   "source": [
    "subhadip=bank_account(5000)"
   ]
  },
  {
   "cell_type": "code",
   "execution_count": 3,
   "id": "2a4a0b4c-3372-44f6-a965-01f681720b9c",
   "metadata": {},
   "outputs": [
    {
     "data": {
      "text/plain": [
       "5000"
      ]
     },
     "execution_count": 3,
     "metadata": {},
     "output_type": "execute_result"
    }
   ],
   "source": [
    "subhadip.balance()"
   ]
  },
  {
   "cell_type": "code",
   "execution_count": 4,
   "id": "fae062f4-0fc9-4a56-99fb-7e2b6121ee09",
   "metadata": {},
   "outputs": [],
   "source": [
    "subhadip.diposit(10000000000000)"
   ]
  },
  {
   "cell_type": "code",
   "execution_count": 5,
   "id": "d8bd929b-f7b8-4495-8d10-0b73afcfa716",
   "metadata": {},
   "outputs": [
    {
     "data": {
      "text/plain": [
       "10000000005000"
      ]
     },
     "execution_count": 5,
     "metadata": {},
     "output_type": "execute_result"
    }
   ],
   "source": [
    "subhadip.balance()"
   ]
  },
  {
   "cell_type": "code",
   "execution_count": 6,
   "id": "2dd0b293-7564-47f8-8a7b-39a906d22c18",
   "metadata": {},
   "outputs": [
    {
     "data": {
      "text/plain": [
       "True"
      ]
     },
     "execution_count": 6,
     "metadata": {},
     "output_type": "execute_result"
    }
   ],
   "source": [
    "subhadip.widrawl(100)"
   ]
  },
  {
   "cell_type": "code",
   "execution_count": 7,
   "id": "9aa1e716-f583-4e80-8e98-54e7c88640ab",
   "metadata": {},
   "outputs": [
    {
     "data": {
      "text/plain": [
       "10000000004900"
      ]
     },
     "execution_count": 7,
     "metadata": {},
     "output_type": "execute_result"
    }
   ],
   "source": [
    "subhadip.balance()"
   ]
  },
  {
   "cell_type": "code",
   "execution_count": null,
   "id": "92e31783-8eb0-46ba-9f18-f6a1548fd531",
   "metadata": {},
   "outputs": [],
   "source": []
  }
 ],
 "metadata": {
  "kernelspec": {
   "display_name": "Python 3 (ipykernel)",
   "language": "python",
   "name": "python3"
  },
  "language_info": {
   "codemirror_mode": {
    "name": "ipython",
    "version": 3
   },
   "file_extension": ".py",
   "mimetype": "text/x-python",
   "name": "python",
   "nbconvert_exporter": "python",
   "pygments_lexer": "ipython3",
   "version": "3.10.8"
  }
 },
 "nbformat": 4,
 "nbformat_minor": 5
}
